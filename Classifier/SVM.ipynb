{
 "cells": [
  {
   "cell_type": "code",
   "execution_count": null,
   "metadata": {
    "collapsed": false
   },
   "outputs": [
    {
     "name": "stderr",
     "output_type": "stream",
     "text": [
      "/Users/bingqianshan/anaconda/lib/python3.6/site-packages/sklearn/cross_validation.py:44: DeprecationWarning: This module was deprecated in version 0.18 in favor of the model_selection module into which all the refactored classes and functions are moved. Also note that the interface of the new CV iterators are different from that of this module. This module will be removed in 0.20.\n",
      "  \"This module will be removed in 0.20.\", DeprecationWarning)\n"
     ]
    },
    {
     "name": "stdout",
     "output_type": "stream",
     "text": [
      "x_train,y_train score: 0.990541666667\n",
      "x_test,y_test score: 0.781833333333\n",
      "f1_score: 0.781833333333\n",
      "value of C: 1\n",
      "             precision    recall  f1-score   support\n",
      "\n",
      "          0       0.78      0.99      0.88      4677\n",
      "          1       0.61      0.03      0.06      1323\n",
      "\n",
      "avg / total       0.74      0.78      0.70      6000\n",
      "\n"
     ]
    }
   ],
   "source": [
    "from sklearn.cross_validation import train_test_split\n",
    "from sklearn.metrics import f1_score\n",
    "from sklearn import metrics\n",
    "from sklearn.svm import SVC\n",
    "import pandas as pd\n",
    "from sklearn.decomposition import PCA\n",
    "import matplotlib.pyplot as plt\n",
    "import PCA_Transfer\n",
    "\n",
    "\n",
    "path = 'default_of_credit_card_clients.csv'\n",
    "train_x_y = pd.read_csv(path)\n",
    "\n",
    "\n",
    "feature_list = ['LIMIT_BAL','SEX','EDUCATION','MARRIAGE','AGE','PAY_0','PAY_2','PAY_3',\n",
    "                'PAY_4','PAY_5','PAY_6','BILL_AMT1','BILL_AMT2','BILL_AMT3','BILL_AMT4',\n",
    "                'BILL_AMT5','BILL_AMT6','PAY_AMT1','PAY_AMT2','PAY_AMT3','PAY_AMT4',\n",
    "                'PAY_AMT5','PAY_AMT6']\n",
    "\n",
    "X = train_x_y[feature_list]\n",
    "y = train_x_y.default_payment_next_month\n",
    "#dimensional reduction\n",
    "\n",
    "X = PCA_Transfer.PCA_Transfer(X,2)\n",
    "\n",
    "\n",
    "\n",
    "train_store = []\n",
    "test_store = []\n",
    "value_of_C = []\n",
    "l = []\n",
    "for i in range(1,51):\n",
    "    #0.00015\n",
    "    X_train, X_test, y_train, y_test = train_test_split(X, y, test_size=0.2)\n",
    "    #‘sgd’ refers to stochastic gradient descent.\n",
    "    #L2 penalty (regularization term) parameter.\n",
    "    clf = SVC()\n",
    "    clf.fit(X_train, y_train)\n",
    "    y_pred_class = clf.predict(X_test)\n",
    "\n",
    "    SVC(C = i, cache_size=200, coef0 = 0.0,\n",
    "        decision_function_shape=None, degree=3, gamma=1, kernel='linear',class_weight= None,\n",
    "        probability=False, random_state=None, shrinking=True,\n",
    "        tol=0.001, verbose=False)\n",
    "\n",
    "    l.append(f1_score(y_test, y_pred_class, average='micro'))\n",
    "    print(\"x_train,y_train score:\", clf.score(X_train, y_train))\n",
    "    print(\"x_test,y_test score:\", clf.score(X_test, y_test))\n",
    "    print(\"f1_score:\", f1_score(y_test, y_pred_class, average='micro'))\n",
    "    print(\"value of C:\", i)\n",
    "    print(metrics.classification_report(y_test, y_pred_class))\n",
    "    value_of_C.append(i)\n",
    "    train_store.append(clf.score(X_train, y_train))\n",
    "    test_store.append(clf.score(X_test, y_test))\n",
    "\n",
    "print(\"F1 average:\",sum(l) / 50)\n",
    "\n"
   ]
  },
  {
   "cell_type": "code",
   "execution_count": 7,
   "metadata": {
    "collapsed": false
   },
   "outputs": [
    {
     "data": {
      "text/plain": [
       "<matplotlib.text.Text at 0x11280df28>"
      ]
     },
     "execution_count": 7,
     "metadata": {},
     "output_type": "execute_result"
    },
    {
     "data": {
      "image/png": "[encoded data removed]",
      "text/plain": [
       "<matplotlib.figure.Figure at 0x111cb9a58>"
      ]
     },
     "metadata": {},
     "output_type": "display_data"
    }
   ],
   "source": [
    "\n",
    "\n",
    "\n",
    "\n",
    "%matplotlib inline\n",
    "plt.figure(figsize=(16,9))\n",
    "train, = plt.plot(value_of_C,train_store,color='blue',label='training')\n",
    "test, = plt.plot(value_of_C,test_store,color='red',label='test')\n",
    "\n",
    "plt.legend(handles=[train, test] )\n",
    "\n",
    "plt.xlabel(r'value of C $\\longrightarrow$')\n",
    "plt.ylabel(r'model score $\\longrightarrow$')\n",
    "plt.ylim(0.60,1)\n",
    "plt.title(\"Boosting Curve\", size=12)"
   ]
  }
 ],
 "metadata": {
  "kernelspec": {
   "display_name": "Python 3",
   "language": "python",
   "name": "python3"
  },
  "language_info": {
   "codemirror_mode": {
    "name": "ipython",
    "version": 3
   },
   "file_extension": ".py",
   "mimetype": "text/x-python",
   "name": "python",
   "nbconvert_exporter": "python",
   "pygments_lexer": "ipython3",
   "version": "3.6.0"
  }
 },
 "nbformat": 4,
 "nbformat_minor": 2
}
